{
 "cells": [
  {
   "cell_type": "markdown",
   "id": "5f15a32f-dc32-4c1b-a1ec-df52c3d117be",
   "metadata": {},
   "source": [
    "# Import libraries and setup"
   ]
  },
  {
   "cell_type": "code",
   "execution_count": 41,
   "id": "036120f2-f5e7-4fd3-8f7b-7503102ee310",
   "metadata": {},
   "outputs": [
    {
     "name": "stdout",
     "output_type": "stream",
     "text": [
      "Current directory: /Users/slk/Desktop/emotion_activation_maps_project\n",
      "\n",
      "Files in current directory:\n",
      "  - test_images\n",
      "  - model_evaluation.py\n",
      "  - activation_maps_output\n",
      "  - Untitled1.ipynb\n",
      "  - .DS_Store\n",
      "  - requirements.txt\n",
      "  - test\n",
      "  - emotion_detection_model.h5\n",
      "  - Untitled.ipynb\n",
      "  - model_training.py\n",
      "  - read.md\n",
      "  - activation_maps.py\n",
      "  - models\n",
      "  - __pycache__\n",
      "  - .gitignore\n",
      "  - train\n",
      "  - .ipynb_checkpoints\n",
      "  - sample_emotion.jpg\n",
      "  - data_preparation.py\n",
      "  - cnn_activation_analysis.png\n",
      "  - notebooks\n",
      "  - activation_maps\n",
      "  - src\n"
     ]
    }
   ],
   "source": [
    "\n",
    "import os\n",
    "import numpy as np\n",
    "import matplotlib.pyplot as plt\n",
    "import cv2\n",
    "import tensorflow as tf\n",
    "from tensorflow import keras\n",
    "from tensorflow.keras.models import Model\n",
    "from tensorflow.keras.preprocessing.image import load_img, img_to_array\n",
    "import warnings\n",
    "warnings.filterwarnings('ignore')\n",
    "\n",
    "print(\"Current directory:\", os.getcwd())\n",
    "print(\"\\nFiles in current directory:\")\n",
    "for item in os.listdir('.'):\n",
    "    print(f\"  - {item}\")\n"
   ]
  },
  {
   "cell_type": "markdown",
   "id": "5b82b109-a97d-4b18-80f4-2b2befe008e5",
   "metadata": {},
   "source": [
    "#  Load the trained model"
   ]
  },
  {
   "cell_type": "code",
   "execution_count": 46,
   "id": "b254863f-e0cc-4d4c-a231-3c5f8c25a55a",
   "metadata": {},
   "outputs": [
    {
     "name": "stderr",
     "output_type": "stream",
     "text": [
      "WARNING:absl:Compiled the loaded model, but the compiled metrics have yet to be built. `model.compile_metrics` will be empty until you train or evaluate the model.\n"
     ]
    },
    {
     "name": "stdout",
     "output_type": "stream",
     "text": [
      "✓ Model loaded successfully!\n"
     ]
    },
    {
     "data": {
      "text/html": [
       "<pre style=\"white-space:pre;overflow-x:auto;line-height:normal;font-family:Menlo,'DejaVu Sans Mono',consolas,'Courier New',monospace\"><span style=\"font-weight: bold\">Model: \"sequential_1\"</span>\n",
       "</pre>\n"
      ],
      "text/plain": [
       "\u001b[1mModel: \"sequential_1\"\u001b[0m\n"
      ]
     },
     "metadata": {},
     "output_type": "display_data"
    },
    {
     "data": {
      "text/html": [
       "<pre style=\"white-space:pre;overflow-x:auto;line-height:normal;font-family:Menlo,'DejaVu Sans Mono',consolas,'Courier New',monospace\">┏━━━━━━━━━━━━━━━━━━━━━━━━━━━━━━━━━┳━━━━━━━━━━━━━━━━━━━━━━━━┳━━━━━━━━━━━━━━━┓\n",
       "┃<span style=\"font-weight: bold\"> Layer (type)                    </span>┃<span style=\"font-weight: bold\"> Output Shape           </span>┃<span style=\"font-weight: bold\">       Param # </span>┃\n",
       "┡━━━━━━━━━━━━━━━━━━━━━━━━━━━━━━━━━╇━━━━━━━━━━━━━━━━━━━━━━━━╇━━━━━━━━━━━━━━━┩\n",
       "│ conv1 (<span style=\"color: #0087ff; text-decoration-color: #0087ff\">Conv2D</span>)                  │ (<span style=\"color: #00d7ff; text-decoration-color: #00d7ff\">None</span>, <span style=\"color: #00af00; text-decoration-color: #00af00\">46</span>, <span style=\"color: #00af00; text-decoration-color: #00af00\">46</span>, <span style=\"color: #00af00; text-decoration-color: #00af00\">32</span>)     │           <span style=\"color: #00af00; text-decoration-color: #00af00\">320</span> │\n",
       "├─────────────────────────────────┼────────────────────────┼───────────────┤\n",
       "│ batch_normalization_3           │ (<span style=\"color: #00d7ff; text-decoration-color: #00d7ff\">None</span>, <span style=\"color: #00af00; text-decoration-color: #00af00\">46</span>, <span style=\"color: #00af00; text-decoration-color: #00af00\">46</span>, <span style=\"color: #00af00; text-decoration-color: #00af00\">32</span>)     │           <span style=\"color: #00af00; text-decoration-color: #00af00\">128</span> │\n",
       "│ (<span style=\"color: #0087ff; text-decoration-color: #0087ff\">BatchNormalization</span>)            │                        │               │\n",
       "├─────────────────────────────────┼────────────────────────┼───────────────┤\n",
       "│ max_pooling2d_3 (<span style=\"color: #0087ff; text-decoration-color: #0087ff\">MaxPooling2D</span>)  │ (<span style=\"color: #00d7ff; text-decoration-color: #00d7ff\">None</span>, <span style=\"color: #00af00; text-decoration-color: #00af00\">23</span>, <span style=\"color: #00af00; text-decoration-color: #00af00\">23</span>, <span style=\"color: #00af00; text-decoration-color: #00af00\">32</span>)     │             <span style=\"color: #00af00; text-decoration-color: #00af00\">0</span> │\n",
       "├─────────────────────────────────┼────────────────────────┼───────────────┤\n",
       "│ dropout_4 (<span style=\"color: #0087ff; text-decoration-color: #0087ff\">Dropout</span>)             │ (<span style=\"color: #00d7ff; text-decoration-color: #00d7ff\">None</span>, <span style=\"color: #00af00; text-decoration-color: #00af00\">23</span>, <span style=\"color: #00af00; text-decoration-color: #00af00\">23</span>, <span style=\"color: #00af00; text-decoration-color: #00af00\">32</span>)     │             <span style=\"color: #00af00; text-decoration-color: #00af00\">0</span> │\n",
       "├─────────────────────────────────┼────────────────────────┼───────────────┤\n",
       "│ conv2 (<span style=\"color: #0087ff; text-decoration-color: #0087ff\">Conv2D</span>)                  │ (<span style=\"color: #00d7ff; text-decoration-color: #00d7ff\">None</span>, <span style=\"color: #00af00; text-decoration-color: #00af00\">21</span>, <span style=\"color: #00af00; text-decoration-color: #00af00\">21</span>, <span style=\"color: #00af00; text-decoration-color: #00af00\">64</span>)     │        <span style=\"color: #00af00; text-decoration-color: #00af00\">18,496</span> │\n",
       "├─────────────────────────────────┼────────────────────────┼───────────────┤\n",
       "│ batch_normalization_4           │ (<span style=\"color: #00d7ff; text-decoration-color: #00d7ff\">None</span>, <span style=\"color: #00af00; text-decoration-color: #00af00\">21</span>, <span style=\"color: #00af00; text-decoration-color: #00af00\">21</span>, <span style=\"color: #00af00; text-decoration-color: #00af00\">64</span>)     │           <span style=\"color: #00af00; text-decoration-color: #00af00\">256</span> │\n",
       "│ (<span style=\"color: #0087ff; text-decoration-color: #0087ff\">BatchNormalization</span>)            │                        │               │\n",
       "├─────────────────────────────────┼────────────────────────┼───────────────┤\n",
       "│ max_pooling2d_4 (<span style=\"color: #0087ff; text-decoration-color: #0087ff\">MaxPooling2D</span>)  │ (<span style=\"color: #00d7ff; text-decoration-color: #00d7ff\">None</span>, <span style=\"color: #00af00; text-decoration-color: #00af00\">10</span>, <span style=\"color: #00af00; text-decoration-color: #00af00\">10</span>, <span style=\"color: #00af00; text-decoration-color: #00af00\">64</span>)     │             <span style=\"color: #00af00; text-decoration-color: #00af00\">0</span> │\n",
       "├─────────────────────────────────┼────────────────────────┼───────────────┤\n",
       "│ dropout_5 (<span style=\"color: #0087ff; text-decoration-color: #0087ff\">Dropout</span>)             │ (<span style=\"color: #00d7ff; text-decoration-color: #00d7ff\">None</span>, <span style=\"color: #00af00; text-decoration-color: #00af00\">10</span>, <span style=\"color: #00af00; text-decoration-color: #00af00\">10</span>, <span style=\"color: #00af00; text-decoration-color: #00af00\">64</span>)     │             <span style=\"color: #00af00; text-decoration-color: #00af00\">0</span> │\n",
       "├─────────────────────────────────┼────────────────────────┼───────────────┤\n",
       "│ conv3 (<span style=\"color: #0087ff; text-decoration-color: #0087ff\">Conv2D</span>)                  │ (<span style=\"color: #00d7ff; text-decoration-color: #00d7ff\">None</span>, <span style=\"color: #00af00; text-decoration-color: #00af00\">8</span>, <span style=\"color: #00af00; text-decoration-color: #00af00\">8</span>, <span style=\"color: #00af00; text-decoration-color: #00af00\">128</span>)      │        <span style=\"color: #00af00; text-decoration-color: #00af00\">73,856</span> │\n",
       "├─────────────────────────────────┼────────────────────────┼───────────────┤\n",
       "│ batch_normalization_5           │ (<span style=\"color: #00d7ff; text-decoration-color: #00d7ff\">None</span>, <span style=\"color: #00af00; text-decoration-color: #00af00\">8</span>, <span style=\"color: #00af00; text-decoration-color: #00af00\">8</span>, <span style=\"color: #00af00; text-decoration-color: #00af00\">128</span>)      │           <span style=\"color: #00af00; text-decoration-color: #00af00\">512</span> │\n",
       "│ (<span style=\"color: #0087ff; text-decoration-color: #0087ff\">BatchNormalization</span>)            │                        │               │\n",
       "├─────────────────────────────────┼────────────────────────┼───────────────┤\n",
       "│ max_pooling2d_5 (<span style=\"color: #0087ff; text-decoration-color: #0087ff\">MaxPooling2D</span>)  │ (<span style=\"color: #00d7ff; text-decoration-color: #00d7ff\">None</span>, <span style=\"color: #00af00; text-decoration-color: #00af00\">4</span>, <span style=\"color: #00af00; text-decoration-color: #00af00\">4</span>, <span style=\"color: #00af00; text-decoration-color: #00af00\">128</span>)      │             <span style=\"color: #00af00; text-decoration-color: #00af00\">0</span> │\n",
       "├─────────────────────────────────┼────────────────────────┼───────────────┤\n",
       "│ dropout_6 (<span style=\"color: #0087ff; text-decoration-color: #0087ff\">Dropout</span>)             │ (<span style=\"color: #00d7ff; text-decoration-color: #00d7ff\">None</span>, <span style=\"color: #00af00; text-decoration-color: #00af00\">4</span>, <span style=\"color: #00af00; text-decoration-color: #00af00\">4</span>, <span style=\"color: #00af00; text-decoration-color: #00af00\">128</span>)      │             <span style=\"color: #00af00; text-decoration-color: #00af00\">0</span> │\n",
       "├─────────────────────────────────┼────────────────────────┼───────────────┤\n",
       "│ flatten_1 (<span style=\"color: #0087ff; text-decoration-color: #0087ff\">Flatten</span>)             │ (<span style=\"color: #00d7ff; text-decoration-color: #00d7ff\">None</span>, <span style=\"color: #00af00; text-decoration-color: #00af00\">2048</span>)           │             <span style=\"color: #00af00; text-decoration-color: #00af00\">0</span> │\n",
       "├─────────────────────────────────┼────────────────────────┼───────────────┤\n",
       "│ dense_2 (<span style=\"color: #0087ff; text-decoration-color: #0087ff\">Dense</span>)                 │ (<span style=\"color: #00d7ff; text-decoration-color: #00d7ff\">None</span>, <span style=\"color: #00af00; text-decoration-color: #00af00\">256</span>)            │       <span style=\"color: #00af00; text-decoration-color: #00af00\">524,544</span> │\n",
       "├─────────────────────────────────┼────────────────────────┼───────────────┤\n",
       "│ dropout_7 (<span style=\"color: #0087ff; text-decoration-color: #0087ff\">Dropout</span>)             │ (<span style=\"color: #00d7ff; text-decoration-color: #00d7ff\">None</span>, <span style=\"color: #00af00; text-decoration-color: #00af00\">256</span>)            │             <span style=\"color: #00af00; text-decoration-color: #00af00\">0</span> │\n",
       "├─────────────────────────────────┼────────────────────────┼───────────────┤\n",
       "│ dense_3 (<span style=\"color: #0087ff; text-decoration-color: #0087ff\">Dense</span>)                 │ (<span style=\"color: #00d7ff; text-decoration-color: #00d7ff\">None</span>, <span style=\"color: #00af00; text-decoration-color: #00af00\">7</span>)              │         <span style=\"color: #00af00; text-decoration-color: #00af00\">1,799</span> │\n",
       "└─────────────────────────────────┴────────────────────────┴───────────────┘\n",
       "</pre>\n"
      ],
      "text/plain": [
       "┏━━━━━━━━━━━━━━━━━━━━━━━━━━━━━━━━━┳━━━━━━━━━━━━━━━━━━━━━━━━┳━━━━━━━━━━━━━━━┓\n",
       "┃\u001b[1m \u001b[0m\u001b[1mLayer (type)                   \u001b[0m\u001b[1m \u001b[0m┃\u001b[1m \u001b[0m\u001b[1mOutput Shape          \u001b[0m\u001b[1m \u001b[0m┃\u001b[1m \u001b[0m\u001b[1m      Param #\u001b[0m\u001b[1m \u001b[0m┃\n",
       "┡━━━━━━━━━━━━━━━━━━━━━━━━━━━━━━━━━╇━━━━━━━━━━━━━━━━━━━━━━━━╇━━━━━━━━━━━━━━━┩\n",
       "│ conv1 (\u001b[38;5;33mConv2D\u001b[0m)                  │ (\u001b[38;5;45mNone\u001b[0m, \u001b[38;5;34m46\u001b[0m, \u001b[38;5;34m46\u001b[0m, \u001b[38;5;34m32\u001b[0m)     │           \u001b[38;5;34m320\u001b[0m │\n",
       "├─────────────────────────────────┼────────────────────────┼───────────────┤\n",
       "│ batch_normalization_3           │ (\u001b[38;5;45mNone\u001b[0m, \u001b[38;5;34m46\u001b[0m, \u001b[38;5;34m46\u001b[0m, \u001b[38;5;34m32\u001b[0m)     │           \u001b[38;5;34m128\u001b[0m │\n",
       "│ (\u001b[38;5;33mBatchNormalization\u001b[0m)            │                        │               │\n",
       "├─────────────────────────────────┼────────────────────────┼───────────────┤\n",
       "│ max_pooling2d_3 (\u001b[38;5;33mMaxPooling2D\u001b[0m)  │ (\u001b[38;5;45mNone\u001b[0m, \u001b[38;5;34m23\u001b[0m, \u001b[38;5;34m23\u001b[0m, \u001b[38;5;34m32\u001b[0m)     │             \u001b[38;5;34m0\u001b[0m │\n",
       "├─────────────────────────────────┼────────────────────────┼───────────────┤\n",
       "│ dropout_4 (\u001b[38;5;33mDropout\u001b[0m)             │ (\u001b[38;5;45mNone\u001b[0m, \u001b[38;5;34m23\u001b[0m, \u001b[38;5;34m23\u001b[0m, \u001b[38;5;34m32\u001b[0m)     │             \u001b[38;5;34m0\u001b[0m │\n",
       "├─────────────────────────────────┼────────────────────────┼───────────────┤\n",
       "│ conv2 (\u001b[38;5;33mConv2D\u001b[0m)                  │ (\u001b[38;5;45mNone\u001b[0m, \u001b[38;5;34m21\u001b[0m, \u001b[38;5;34m21\u001b[0m, \u001b[38;5;34m64\u001b[0m)     │        \u001b[38;5;34m18,496\u001b[0m │\n",
       "├─────────────────────────────────┼────────────────────────┼───────────────┤\n",
       "│ batch_normalization_4           │ (\u001b[38;5;45mNone\u001b[0m, \u001b[38;5;34m21\u001b[0m, \u001b[38;5;34m21\u001b[0m, \u001b[38;5;34m64\u001b[0m)     │           \u001b[38;5;34m256\u001b[0m │\n",
       "│ (\u001b[38;5;33mBatchNormalization\u001b[0m)            │                        │               │\n",
       "├─────────────────────────────────┼────────────────────────┼───────────────┤\n",
       "│ max_pooling2d_4 (\u001b[38;5;33mMaxPooling2D\u001b[0m)  │ (\u001b[38;5;45mNone\u001b[0m, \u001b[38;5;34m10\u001b[0m, \u001b[38;5;34m10\u001b[0m, \u001b[38;5;34m64\u001b[0m)     │             \u001b[38;5;34m0\u001b[0m │\n",
       "├─────────────────────────────────┼────────────────────────┼───────────────┤\n",
       "│ dropout_5 (\u001b[38;5;33mDropout\u001b[0m)             │ (\u001b[38;5;45mNone\u001b[0m, \u001b[38;5;34m10\u001b[0m, \u001b[38;5;34m10\u001b[0m, \u001b[38;5;34m64\u001b[0m)     │             \u001b[38;5;34m0\u001b[0m │\n",
       "├─────────────────────────────────┼────────────────────────┼───────────────┤\n",
       "│ conv3 (\u001b[38;5;33mConv2D\u001b[0m)                  │ (\u001b[38;5;45mNone\u001b[0m, \u001b[38;5;34m8\u001b[0m, \u001b[38;5;34m8\u001b[0m, \u001b[38;5;34m128\u001b[0m)      │        \u001b[38;5;34m73,856\u001b[0m │\n",
       "├─────────────────────────────────┼────────────────────────┼───────────────┤\n",
       "│ batch_normalization_5           │ (\u001b[38;5;45mNone\u001b[0m, \u001b[38;5;34m8\u001b[0m, \u001b[38;5;34m8\u001b[0m, \u001b[38;5;34m128\u001b[0m)      │           \u001b[38;5;34m512\u001b[0m │\n",
       "│ (\u001b[38;5;33mBatchNormalization\u001b[0m)            │                        │               │\n",
       "├─────────────────────────────────┼────────────────────────┼───────────────┤\n",
       "│ max_pooling2d_5 (\u001b[38;5;33mMaxPooling2D\u001b[0m)  │ (\u001b[38;5;45mNone\u001b[0m, \u001b[38;5;34m4\u001b[0m, \u001b[38;5;34m4\u001b[0m, \u001b[38;5;34m128\u001b[0m)      │             \u001b[38;5;34m0\u001b[0m │\n",
       "├─────────────────────────────────┼────────────────────────┼───────────────┤\n",
       "│ dropout_6 (\u001b[38;5;33mDropout\u001b[0m)             │ (\u001b[38;5;45mNone\u001b[0m, \u001b[38;5;34m4\u001b[0m, \u001b[38;5;34m4\u001b[0m, \u001b[38;5;34m128\u001b[0m)      │             \u001b[38;5;34m0\u001b[0m │\n",
       "├─────────────────────────────────┼────────────────────────┼───────────────┤\n",
       "│ flatten_1 (\u001b[38;5;33mFlatten\u001b[0m)             │ (\u001b[38;5;45mNone\u001b[0m, \u001b[38;5;34m2048\u001b[0m)           │             \u001b[38;5;34m0\u001b[0m │\n",
       "├─────────────────────────────────┼────────────────────────┼───────────────┤\n",
       "│ dense_2 (\u001b[38;5;33mDense\u001b[0m)                 │ (\u001b[38;5;45mNone\u001b[0m, \u001b[38;5;34m256\u001b[0m)            │       \u001b[38;5;34m524,544\u001b[0m │\n",
       "├─────────────────────────────────┼────────────────────────┼───────────────┤\n",
       "│ dropout_7 (\u001b[38;5;33mDropout\u001b[0m)             │ (\u001b[38;5;45mNone\u001b[0m, \u001b[38;5;34m256\u001b[0m)            │             \u001b[38;5;34m0\u001b[0m │\n",
       "├─────────────────────────────────┼────────────────────────┼───────────────┤\n",
       "│ dense_3 (\u001b[38;5;33mDense\u001b[0m)                 │ (\u001b[38;5;45mNone\u001b[0m, \u001b[38;5;34m7\u001b[0m)              │         \u001b[38;5;34m1,799\u001b[0m │\n",
       "└─────────────────────────────────┴────────────────────────┴───────────────┘\n"
      ]
     },
     "metadata": {},
     "output_type": "display_data"
    },
    {
     "data": {
      "text/html": [
       "<pre style=\"white-space:pre;overflow-x:auto;line-height:normal;font-family:Menlo,'DejaVu Sans Mono',consolas,'Courier New',monospace\"><span style=\"font-weight: bold\"> Total params: </span><span style=\"color: #00af00; text-decoration-color: #00af00\">619,913</span> (2.36 MB)\n",
       "</pre>\n"
      ],
      "text/plain": [
       "\u001b[1m Total params: \u001b[0m\u001b[38;5;34m619,913\u001b[0m (2.36 MB)\n"
      ]
     },
     "metadata": {},
     "output_type": "display_data"
    },
    {
     "data": {
      "text/html": [
       "<pre style=\"white-space:pre;overflow-x:auto;line-height:normal;font-family:Menlo,'DejaVu Sans Mono',consolas,'Courier New',monospace\"><span style=\"font-weight: bold\"> Trainable params: </span><span style=\"color: #00af00; text-decoration-color: #00af00\">619,463</span> (2.36 MB)\n",
       "</pre>\n"
      ],
      "text/plain": [
       "\u001b[1m Trainable params: \u001b[0m\u001b[38;5;34m619,463\u001b[0m (2.36 MB)\n"
      ]
     },
     "metadata": {},
     "output_type": "display_data"
    },
    {
     "data": {
      "text/html": [
       "<pre style=\"white-space:pre;overflow-x:auto;line-height:normal;font-family:Menlo,'DejaVu Sans Mono',consolas,'Courier New',monospace\"><span style=\"font-weight: bold\"> Non-trainable params: </span><span style=\"color: #00af00; text-decoration-color: #00af00\">448</span> (1.75 KB)\n",
       "</pre>\n"
      ],
      "text/plain": [
       "\u001b[1m Non-trainable params: \u001b[0m\u001b[38;5;34m448\u001b[0m (1.75 KB)\n"
      ]
     },
     "metadata": {},
     "output_type": "display_data"
    },
    {
     "data": {
      "text/html": [
       "<pre style=\"white-space:pre;overflow-x:auto;line-height:normal;font-family:Menlo,'DejaVu Sans Mono',consolas,'Courier New',monospace\"><span style=\"font-weight: bold\"> Optimizer params: </span><span style=\"color: #00af00; text-decoration-color: #00af00\">2</span> (12.00 B)\n",
       "</pre>\n"
      ],
      "text/plain": [
       "\u001b[1m Optimizer params: \u001b[0m\u001b[38;5;34m2\u001b[0m (12.00 B)\n"
      ]
     },
     "metadata": {},
     "output_type": "display_data"
    }
   ],
   "source": [
    "model_path = 'emotion_detection_model.h5'\n",
    "\n",
    "try:\n",
    "    model = keras.models.load_model(model_path)\n",
    "    print(\"✓ Model loaded successfully!\")\n",
    "    model.summary()\n",
    "except Exception as e:\n",
    "    print(f\"Error loading model: {e}\")"
   ]
  },
  {
   "cell_type": "markdown",
   "id": "42a1bdad-447c-4904-8846-688d25eb0cb8",
   "metadata": {},
   "source": [
    "# Explore the rain and test folders"
   ]
  },
  {
   "cell_type": "code",
   "execution_count": 49,
   "id": "4d87d7f1-d471-4600-8e1b-f7519feb4545",
   "metadata": {},
   "outputs": [
    {
     "name": "stdout",
     "output_type": "stream",
     "text": [
      "TRAINING DATA:\n",
      "  happy: 7215 images\n",
      "  sad: 4830 images\n",
      "  fearful: 4097 images\n",
      "  neutral: 4965 images\n",
      "  angry: 3995 images\n",
      "  disgusted: 436 images\n",
      "  surprised: 3171 images\n",
      "\n",
      "TEST DATA:\n",
      "  happy: 1774 images\n",
      "  sad: 1247 images\n",
      "  fearful: 1024 images\n",
      "  neutral: 1233 images\n",
      "  angry: 958 images\n",
      "  disgusted: 111 images\n",
      "  surprised: 831 images\n"
     ]
    }
   ],
   "source": [
    "\n",
    "def explore_data_folders():\n",
    "    \n",
    "    if os.path.exists('train'):\n",
    "        print(\"TRAINING DATA:\")\n",
    "        train_emotions = os.listdir('train')\n",
    "        for emotion in train_emotions:\n",
    "            if os.path.isdir(os.path.join('train', emotion)):\n",
    "                count = len(os.listdir(os.path.join('train', emotion)))\n",
    "                print(f\"  {emotion}: {count} images\")\n",
    "    \n",
    "    if os.path.exists('test'):\n",
    "        print(\"\\nTEST DATA:\")\n",
    "        test_emotions = os.listdir('test')\n",
    "        for emotion in test_emotions:\n",
    "            if os.path.isdir(os.path.join('test', emotion)):\n",
    "                count = len(os.listdir(os.path.join('test', emotion)))\n",
    "                print(f\"  {emotion}: {count} images\")\n",
    "    \n",
    "    return train_emotions if 'train_emotions' in locals() else []\n",
    "\n",
    "emotion_classes = explore_data_folders()"
   ]
  },
  {
   "cell_type": "code",
   "execution_count": 51,
   "id": "e66a6643-0df2-4f6c-8ddb-99d98aa1f284",
   "metadata": {},
   "outputs": [
    {
     "data": {
      "image/png": "[encoded data removed]",
      "text/plain": [
       "<Figure size 600x600 with 1 Axes>"
      ]
     },
     "metadata": {},
     "output_type": "display_data"
    },
    {
     "name": "stdout",
     "output_type": "stream",
     "text": [
      "Image shape: (48, 48, 3)\n",
      "Model input shape: (None, 48, 48, 1)\n"
     ]
    }
   ],
   "source": [
    "sample_image_path = 'sample_emotion.jpg'\n",
    "\n",
    "# Display the sample image\n",
    "img = cv2.imread(sample_image_path)\n",
    "img_rgb = cv2.cvtColor(img, cv2.COLOR_BGR2RGB) if len(img.shape) == 3 else img\n",
    "\n",
    "plt.figure(figsize=(6, 6))\n",
    "plt.imshow(img_rgb, cmap='gray' if len(img.shape) == 2 else None)\n",
    "plt.title('Sample Emotion Image')\n",
    "plt.axis('off')\n",
    "plt.show()\n",
    "\n",
    "print(f\"Image shape: {img.shape}\")\n",
    "print(f\"Model input shape: {model.input_shape}\")"
   ]
  },
  {
   "cell_type": "markdown",
   "id": "cb3df15b-a7d4-4a52-8739-bb9b5235ed90",
   "metadata": {},
   "source": [
    "# Activation Map Visualization Functions (Fixed)"
   ]
  },
  {
   "cell_type": "code",
   "execution_count": 20,
   "id": "b50c242d-423f-4f16-b7bc-a11303beaa01",
   "metadata": {},
   "outputs": [
    {
     "name": "stdout",
     "output_type": "stream",
     "text": [
      "Found 3 convolutional layers\n"
     ]
    },
    {
     "data": {
      "image/png": "[encoded data removed]",
      "text/plain": [
       "<Figure size 1500x900 with 25 Axes>"
      ]
     },
     "metadata": {},
     "output_type": "display_data"
    }
   ],
   "source": [
    "def preprocess_image(image_path, target_size=(48, 48)):\n",
    "\n",
    "    img = cv2.imread(image_path)\n",
    "    if len(img.shape) == 3:\n",
    "        img = cv2.cvtColor(img, cv2.COLOR_BGR2GRAY)\n",
    "    img_resized = cv2.resize(img, target_size)\n",
    "    img_array = img_resized.reshape(1, target_size[0], target_size[1], 1)\n",
    "    img_normalized = img_array / 255.0\n",
    "    \n",
    "    return img_normalized, img_resized\n",
    "\n",
    "\n",
    "def build_model_if_needed(model):\n",
    "    try:\n",
    "        _ = model.input_shape\n",
    "    except AttributeError:\n",
    "        print(\"Building model...\")\n",
    "        dummy_input = tf.zeros((1, 48, 48, 1))\n",
    "        _ = model(dummy_input)\n",
    "        print(\"Model built successfully!\")\n",
    "    return model\n",
    "\n",
    "# Build the model\n",
    "model = build_model_if_needed(model)\n",
    "\n",
    "def visualize_conv_layers(model, image_path):\n",
    "\n",
    "    try:\n",
    "        input_shape = model.input_shape[1:3]\n",
    "    except:\n",
    "        input_shape = (48, 48)  # Default size, adjust if needed\n",
    "        print(f\"Using default input shape: {input_shape}\")\n",
    "    \n",
    "    img_array, img_original = preprocess_image(image_path, target_size=input_shape)\n",
    "    \n",
    "    # Get all conv layers\n",
    "    conv_layers = []\n",
    "    for layer in model.layers:\n",
    "        if 'conv' in layer.name.lower():\n",
    "            conv_layers.append(layer)\n",
    "        elif hasattr(layer, 'layers'):\n",
    "            for sublayer in layer.layers:\n",
    "                if 'conv' in sublayer.name.lower():\n",
    "                    conv_layers.append(sublayer)\n",
    "    \n",
    "    if not conv_layers:\n",
    "        print(\"No convolutional layers found!\")\n",
    "        return None\n",
    "    \n",
    "    print(f\"Found {len(conv_layers)} convolutional layers\")\n",
    "    \n",
    "    # Create figure\n",
    "    fig = plt.figure(figsize=(15, 3 * len(conv_layers)))\n",
    "    \n",
    "    # Show original image\n",
    "    plt.subplot(len(conv_layers) + 1, 8, 1)\n",
    "    plt.imshow(img_original, cmap='gray')\n",
    "    plt.title('Original')\n",
    "    plt.axis('off')\n",
    "    \n",
    "    for layer_idx, conv_layer in enumerate(conv_layers):\n",
    "        intermediate_model = tf.keras.Model(\n",
    "            inputs=model.inputs,\n",
    "            outputs=conv_layer.output\n",
    "        )\n",
    "        \n",
    "        activations = intermediate_model.predict(img_array, verbose=0)\n",
    "        \n",
    "        n_filters = min(8, activations.shape[-1])\n",
    "        for i in range(n_filters):\n",
    "            plt.subplot(len(conv_layers) + 1, 8, (layer_idx + 1) * 8 + i + 1)\n",
    "            plt.imshow(activations[0, :, :, i], cmap='viridis')\n",
    "            if i == 0:\n",
    "                plt.ylabel(conv_layer.name, rotation=90)\n",
    "            plt.axis('off')\n",
    "    \n",
    "    plt.suptitle(f'Convolutional Layer Activations: {os.path.basename(image_path)}')\n",
    "    plt.tight_layout()\n",
    "    return fig\n",
    "\n",
    "\n",
    "fig = visualize_conv_layers(model, sample_image_path)\n",
    "if fig:\n",
    "    plt.show()"
   ]
  },
  {
   "cell_type": "markdown",
   "id": "5ac341b4-b33a-4d4e-a3b5-5b4b5807ce25",
   "metadata": {},
   "source": [
    "# Simple activation heatmap with proper error handling"
   ]
  },
  {
   "cell_type": "code",
   "execution_count": 28,
   "id": "70306691-92c1-4ce2-9f09-a9f457478c37",
   "metadata": {},
   "outputs": [
    {
     "name": "stdout",
     "output_type": "stream",
     "text": [
      "Checking model output shape...\n",
      "Model output shape: (1, 7)\n",
      "Number of emotion classes in model: 7\n",
      "Using emotion labels: ['Angry', 'Disgust', 'Fear', 'Happy', 'Neutral', 'Sad', 'Surprise']\n",
      "Model outputs 7 classes\n"
     ]
    },
    {
     "data": {
      "image/png": "[encoded data removed]",
      "text/plain": [
       "<Figure size 1600x800 with 6 Axes>"
      ]
     },
     "metadata": {},
     "output_type": "display_data"
    }
   ],
   "source": [
    "def create_simple_activation_heatmap(model, image_path, emotion_labels=None):\n",
    "    \"\"\"Create a simple activation heatmap visualization\"\"\"\n",
    "    \n",
    "    img = cv2.imread(image_path)\n",
    "    if len(img.shape) == 3:\n",
    "        img = cv2.cvtColor(img, cv2.COLOR_BGR2GRAY)\n",
    "    \n",
    "    img_resized = cv2.resize(img, (48, 48))\n",
    "    img_array = img_resized.reshape(1, 48, 48, 1) / 255.0\n",
    "    \n",
    "    predictions = model.predict(img_array, verbose=0)\n",
    "    predicted_class = np.argmax(predictions[0])\n",
    "    \n",
    "    num_classes = predictions.shape[1]\n",
    "    print(f\"Model outputs {num_classes} classes\")\n",
    "\n",
    "    if emotion_labels is None:\n",
    "        emotion_labels = [f\"Class_{i}\" for i in range(num_classes)]\n",
    "    else:\n",
    "\n",
    "        if len(emotion_labels) != num_classes:\n",
    "            print(f\"Warning: Provided {len(emotion_labels)} labels but model outputs {num_classes} classes\")\n",
    "            if len(emotion_labels) > num_classes:\n",
    "                emotion_labels = emotion_labels[:num_classes]\n",
    "            else:\n",
    "                emotion_labels = emotion_labels + [f\"Class_{i}\" for i in range(len(emotion_labels), num_classes)]\n",
    "    \n",
    "    conv_outputs = []\n",
    "    for layer in model.layers:\n",
    "        if 'conv' in layer.name.lower():\n",
    "            try:\n",
    "                activation_model = tf.keras.Model(inputs=model.inputs, outputs=layer.output)\n",
    "                activation = activation_model.predict(img_array, verbose=0)\n",
    "                conv_outputs.append((layer.name, activation))\n",
    "            except:\n",
    "                pass\n",
    "    \n",
    "    fig = plt.figure(figsize=(16, 8))\n",
    "   \n",
    "    plt.subplot(2, 4, 1)\n",
    "    plt.imshow(img_resized, cmap='gray')\n",
    "    plt.title('Original Image')\n",
    "    plt.axis('off')\n",
    "    \n",
    "    plt.subplot(2, 4, 2)\n",
    "    bars = plt.bar(range(num_classes), predictions[0])\n",
    "    if predicted_class < len(bars):\n",
    "        bars[predicted_class].set_color('red')\n",
    "    plt.xticks(range(num_classes), emotion_labels, rotation=45)\n",
    "    plt.title(f'Predicted: {emotion_labels[predicted_class]}')\n",
    "    plt.ylabel('Probability')\n",
    "    \n",
    "    if conv_outputs:\n",
    "        for idx, (layer_name, activation) in enumerate(conv_outputs[-3:]):  # Last 3 conv layers\n",
    "            if idx < 3:\n",
    "                avg_activation = np.mean(activation[0], axis=-1)\n",
    "                \n",
    "                plt.subplot(2, 4, 5 + idx)\n",
    "                plt.imshow(avg_activation, cmap='hot')\n",
    "                plt.title(f'{layer_name}\\n(averaged)')\n",
    "                plt.axis('off')\n",
    "                \n",
    "                max_activation = np.max(activation[0], axis=-1)\n",
    "                \n",
    "                plt.subplot(2, 4, 3)\n",
    "                plt.imshow(max_activation, cmap='hot')\n",
    "                plt.title('Max Activation\\n(last conv)')\n",
    "                plt.axis('off')\n",
    "    \n",
    "    plt.suptitle(f'Activation Analysis: {os.path.basename(image_path)}')\n",
    "    plt.tight_layout()\n",
    "    return fig\n",
    "\n",
    "print(\"Checking model output shape...\")\n",
    "dummy_input = np.zeros((1, 48, 48, 1))\n",
    "test_output = model.predict(dummy_input, verbose=0)\n",
    "print(f\"Model output shape: {test_output.shape}\")\n",
    "print(f\"Number of emotion classes in model: {test_output.shape[1]}\")\n",
    "\n",
    "# Define emotion labels based on model output\n",
    "if test_output.shape[1] == 7:\n",
    "    emotion_labels_correct = ['Angry', 'Disgust', 'Fear', 'Happy', 'Neutral', 'Sad', 'Surprise']\n",
    "elif test_output.shape[1] == 8:\n",
    "    # 8 emotions (might include Contempt)\n",
    "    emotion_labels_correct = ['Angry', 'Contempt', 'Disgust', 'Fear', 'Happy', 'Neutral', 'Sad', 'Surprise']\n",
    "else:\n",
    "    emotion_labels_correct = [f\"Emotion_{i}\" for i in range(test_output.shape[1])]\n",
    "\n",
    "print(f\"Using emotion labels: {emotion_labels_correct}\")\n",
    "\n",
    "# Try the visualization with corrected labels\n",
    "fig = create_simple_activation_heatmap(model, sample_image_path, emotion_labels_correct)\n",
    "plt.show()"
   ]
  },
  {
   "cell_type": "markdown",
   "id": "5039e96d-83fa-4cfa-8ad6-ab1112b24927",
   "metadata": {},
   "source": [
    "# Process multiple test images"
   ]
  },
  {
   "cell_type": "code",
   "execution_count": 30,
   "id": "4ef01f42-9b95-492c-949b-0a7725d83d6a",
   "metadata": {},
   "outputs": [
    {
     "name": "stdout",
     "output_type": "stream",
     "text": [
      "Found emotions: ['happy', 'sad', 'fearful', 'neutral', 'angry', 'disgusted', 'surprised']\n",
      "\n",
      "Processing happy images (1774 total)...\n",
      "  - im771.png\n",
      "Found 3 convolutional layers\n",
      "Using last conv layer: conv3\n",
      "Error generating heatmap: Attempt to convert a value (None) with an unsupported type (<class 'NoneType'>) to a Tensor.\n",
      "  - im765.png\n",
      "Found 3 convolutional layers\n",
      "Using last conv layer: conv3\n",
      "Error generating heatmap: Attempt to convert a value (None) with an unsupported type (<class 'NoneType'>) to a Tensor.\n",
      "  - im1209.png\n",
      "Found 3 convolutional layers\n",
      "Using last conv layer: conv3\n",
      "Error generating heatmap: Attempt to convert a value (None) with an unsupported type (<class 'NoneType'>) to a Tensor.\n",
      "\n",
      "Processing sad images (1247 total)...\n",
      "  - im771.png\n",
      "Found 3 convolutional layers\n",
      "Using last conv layer: conv3\n",
      "Error generating heatmap: Attempt to convert a value (None) with an unsupported type (<class 'NoneType'>) to a Tensor.\n",
      "  - im765.png\n",
      "Found 3 convolutional layers\n",
      "Using last conv layer: conv3\n",
      "Error generating heatmap: Attempt to convert a value (None) with an unsupported type (<class 'NoneType'>) to a Tensor.\n",
      "  - im1209.png\n",
      "Found 3 convolutional layers\n",
      "Using last conv layer: conv3\n",
      "Error generating heatmap: Attempt to convert a value (None) with an unsupported type (<class 'NoneType'>) to a Tensor.\n",
      "\n",
      "Processing fearful images (1024 total)...\n",
      "  - im771.png\n",
      "Found 3 convolutional layers\n",
      "Using last conv layer: conv3\n",
      "Error generating heatmap: Attempt to convert a value (None) with an unsupported type (<class 'NoneType'>) to a Tensor.\n",
      "  - im765.png\n",
      "Found 3 convolutional layers\n",
      "Using last conv layer: conv3\n",
      "Error generating heatmap: Attempt to convert a value (None) with an unsupported type (<class 'NoneType'>) to a Tensor.\n",
      "  - im995.png\n",
      "Found 3 convolutional layers\n",
      "Using last conv layer: conv3\n",
      "Error generating heatmap: Attempt to convert a value (None) with an unsupported type (<class 'NoneType'>) to a Tensor.\n",
      "\n",
      "Processing neutral images (1233 total)...\n",
      "  - im771.png\n",
      "Found 3 convolutional layers\n",
      "Using last conv layer: conv3\n",
      "Error generating heatmap: Attempt to convert a value (None) with an unsupported type (<class 'NoneType'>) to a Tensor.\n",
      "  - im765.png\n",
      "Found 3 convolutional layers\n",
      "Using last conv layer: conv3\n",
      "Error generating heatmap: Attempt to convert a value (None) with an unsupported type (<class 'NoneType'>) to a Tensor.\n",
      "  - im1209.png\n",
      "Found 3 convolutional layers\n",
      "Using last conv layer: conv3\n",
      "Error generating heatmap: Attempt to convert a value (None) with an unsupported type (<class 'NoneType'>) to a Tensor.\n",
      "\n",
      "Processing angry images (958 total)...\n",
      "  - im771.png\n",
      "Found 3 convolutional layers\n",
      "Using last conv layer: conv3\n",
      "Error generating heatmap: Attempt to convert a value (None) with an unsupported type (<class 'NoneType'>) to a Tensor.\n",
      "  - im765.png\n",
      "Found 3 convolutional layers\n",
      "Using last conv layer: conv3\n",
      "Error generating heatmap: Attempt to convert a value (None) with an unsupported type (<class 'NoneType'>) to a Tensor.\n",
      "  - im759.png\n",
      "Found 3 convolutional layers\n",
      "Using last conv layer: conv3\n",
      "Error generating heatmap: Attempt to convert a value (None) with an unsupported type (<class 'NoneType'>) to a Tensor.\n",
      "\n",
      "Processing disgusted images (111 total)...\n",
      "  - im87.png\n",
      "Found 3 convolutional layers\n",
      "Using last conv layer: conv3\n",
      "Error generating heatmap: Attempt to convert a value (None) with an unsupported type (<class 'NoneType'>) to a Tensor.\n",
      "  - im93.png\n",
      "Found 3 convolutional layers\n",
      "Using last conv layer: conv3\n",
      "Error generating heatmap: Attempt to convert a value (None) with an unsupported type (<class 'NoneType'>) to a Tensor.\n",
      "  - im44.png\n",
      "Found 3 convolutional layers\n",
      "Using last conv layer: conv3\n",
      "Error generating heatmap: Attempt to convert a value (None) with an unsupported type (<class 'NoneType'>) to a Tensor.\n",
      "\n",
      "Processing surprised images (831 total)...\n",
      "  - im771.png\n",
      "Found 3 convolutional layers\n",
      "Using last conv layer: conv3\n",
      "Error generating heatmap: Attempt to convert a value (None) with an unsupported type (<class 'NoneType'>) to a Tensor.\n",
      "  - im765.png\n",
      "Found 3 convolutional layers\n",
      "Using last conv layer: conv3\n",
      "Error generating heatmap: Attempt to convert a value (None) with an unsupported type (<class 'NoneType'>) to a Tensor.\n",
      "  - im759.png\n",
      "Found 3 convolutional layers\n",
      "Using last conv layer: conv3\n",
      "Error generating heatmap: Attempt to convert a value (None) with an unsupported type (<class 'NoneType'>) to a Tensor.\n",
      "\n",
      "Results saved to activation_maps_output/\n"
     ]
    }
   ],
   "source": [
    "def process_test_images(model, test_folder='test', num_images_per_class=2):\n",
    "    \"\"\"Process images from your test folder\"\"\"\n",
    "    \n",
    "    results_dir = 'activation_maps_output'\n",
    "    os.makedirs(results_dir, exist_ok=True)\n",
    "    \n",
    "    emotion_folders = [f for f in os.listdir(test_folder) \n",
    "                      if os.path.isdir(os.path.join(test_folder, f))]\n",
    "    \n",
    "    print(f\"Found emotions: {emotion_folders}\")\n",
    "    \n",
    "    for emotion in emotion_folders:\n",
    "        emotion_path = os.path.join(test_folder, emotion)\n",
    "        image_files = [f for f in os.listdir(emotion_path) \n",
    "                      if f.endswith(('.jpg', '.jpeg', '.png'))]\n",
    "        \n",
    "        print(f\"\\nProcessing {emotion} images ({len(image_files)} total)...\")\n",
    "        \n",
    "        for i, img_file in enumerate(image_files[:num_images_per_class]):\n",
    "            img_path = os.path.join(emotion_path, img_file)\n",
    "            print(f\"  - {img_file}\")\n",
    "            \n",
    "            fig1 = visualize_conv_layers(model, img_path)\n",
    "            fig1.savefig(os.path.join(results_dir, f'{emotion}_{i}_activations.png'), \n",
    "                        dpi=150, bbox_inches='tight')\n",
    "            plt.close(fig1)\n",
    "            \n",
    "            fig2 = create_gradcam_visualization(model, img_path, emotion_folders)\n",
    "            fig2.savefig(os.path.join(results_dir, f'{emotion}_{i}_gradcam.png'), \n",
    "                        dpi=150, bbox_inches='tight')\n",
    "            plt.close(fig2)\n",
    "    \n",
    "    print(f\"\\nResults saved to {results_dir}/\")\n",
    "    \n",
    "process_test_images(model, 'test', num_images_per_class=3)"
   ]
  },
  {
   "cell_type": "code",
   "execution_count": 32,
   "id": "ba92f460-cdd5-42c1-8afd-f8e1fa06b955",
   "metadata": {},
   "outputs": [],
   "source": [
    "# Cell 1: Import required libraries for evaluation\n",
    "from sklearn.metrics import classification_report, confusion_matrix, accuracy_score\n",
    "from sklearn.metrics import precision_recall_fscore_support, roc_curve, auc\n",
    "from sklearn.preprocessing import label_binarize\n",
    "import seaborn as sns\n",
    "import pandas as pd"
   ]
  },
  {
   "cell_type": "markdown",
   "id": "8a0bc25d-c5f5-4fca-8541-52745f5cb3f1",
   "metadata": {},
   "source": [
    "# Evaluate model on test data"
   ]
  },
  {
   "cell_type": "code",
   "execution_count": 34,
   "id": "32f3b25b-052a-4238-b79d-562c0cffe52b",
   "metadata": {},
   "outputs": [
    {
     "name": "stdout",
     "output_type": "stream",
     "text": [
      "Found 7 emotion classes: ['angry', 'disgusted', 'fearful', 'happy', 'neutral', 'sad', 'surprised']\n",
      "\n",
      "Processing angry: 958 images\n",
      "\n",
      "Processing disgusted: 111 images\n",
      "\n",
      "Processing fearful: 1024 images\n",
      "\n",
      "Processing happy: 1774 images\n",
      "\n",
      "Processing neutral: 1233 images\n",
      "\n",
      "Processing sad: 1247 images\n",
      "\n",
      "Processing surprised: 831 images\n",
      "\n",
      "==================================================\n",
      "EVALUATION RESULTS\n",
      "==================================================\n",
      "\n",
      "Overall Accuracy: 0.5619 (56.19%)\n",
      "Total test samples: 7178\n"
     ]
    }
   ],
   "source": [
    "def evaluate_model(model, test_folder='test'):\n",
    "    \"\"\"Evaluate model performance on test data\"\"\"\n",
    "    \n",
    "\n",
    "    emotion_classes = sorted([f for f in os.listdir(test_folder) \n",
    "                             if os.path.isdir(os.path.join(test_folder, f))])\n",
    "    \n",
    "    print(f\"Found {len(emotion_classes)} emotion classes: {emotion_classes}\")\n",
    "    \n",
    "    y_true = []\n",
    "    y_pred = []\n",
    "    y_pred_proba = []\n",
    "    \n",
    "    for true_label_idx, emotion in enumerate(emotion_classes):\n",
    "        emotion_path = os.path.join(test_folder, emotion)\n",
    "        image_files = [f for f in os.listdir(emotion_path) \n",
    "                      if f.endswith(('.jpg', '.jpeg', '.png'))]\n",
    "        \n",
    "        print(f\"\\nProcessing {emotion}: {len(image_files)} images\")\n",
    "        \n",
    "        for img_file in image_files:\n",
    "            img_path = os.path.join(emotion_path, img_file)\n",
    "            \n",
    "            img = cv2.imread(img_path)\n",
    "            if img is None:\n",
    "                continue\n",
    "                \n",
    "            if len(img.shape) == 3:\n",
    "                img = cv2.cvtColor(img, cv2.COLOR_BGR2GRAY)\n",
    "            \n",
    "            img_resized = cv2.resize(img, (48, 48))\n",
    "            img_array = img_resized.reshape(1, 48, 48, 1) / 255.0\n",
    "        \n",
    "            predictions = model.predict(img_array, verbose=0)\n",
    "            predicted_class = np.argmax(predictions[0])\n",
    "            \n",
    "            y_true.append(true_label_idx)\n",
    "            y_pred.append(predicted_class)\n",
    "            y_pred_proba.append(predictions[0])\n",
    "    \n",
    "\n",
    "    y_true = np.array(y_true)\n",
    "    y_pred = np.array(y_pred)\n",
    "    y_pred_proba = np.array(y_pred_proba)\n",
    "    \n",
    "    # Calculate metrics\n",
    "    accuracy = accuracy_score(y_true, y_pred)\n",
    "    \n",
    "    # Get classification report\n",
    "    report = classification_report(y_true, y_pred, \n",
    "                                 target_names=emotion_classes[:len(set(y_pred))],\n",
    "                                 output_dict=True)\n",
    "    \n",
    "    print(\"\\n\" + \"=\"*50)\n",
    "    print(\"EVALUATION RESULTS\")\n",
    "    print(\"=\"*50)\n",
    "    print(f\"\\nOverall Accuracy: {accuracy:.4f} ({accuracy*100:.2f}%)\")\n",
    "    print(f\"Total test samples: {len(y_true)}\")\n",
    "    \n",
    "    return {\n",
    "        'y_true': y_true,\n",
    "        'y_pred': y_pred,\n",
    "        'y_pred_proba': y_pred_proba,\n",
    "        'accuracy': accuracy,\n",
    "        'report': report,\n",
    "        'emotion_classes': emotion_classes\n",
    "    }\n",
    "\n",
    "# Run evaluation\n",
    "results = evaluate_model(model, 'test')"
   ]
  },
  {
   "cell_type": "markdown",
   "id": "b4366294-61c8-4730-8026-0d0ef3178e36",
   "metadata": {},
   "source": [
    "# Display detailed classification report"
   ]
  },
  {
   "cell_type": "code",
   "execution_count": 36,
   "id": "99c65db9-7b41-4c2d-b9aa-0e0e2ccebea1",
   "metadata": {},
   "outputs": [
    {
     "name": "stdout",
     "output_type": "stream",
     "text": [
      "\n",
      "================================================================================\n",
      "DETAILED CLASSIFICATION REPORT\n",
      "================================================================================\n",
      "  Emotion  Precision  Recall  F1-Score   Support\n",
      "    angry     0.4763  0.4823    0.4793  958.0000\n",
      "disgusted     1.0000  0.0180    0.0354  111.0000\n",
      "  fearful     0.3706  0.1650    0.2284 1024.0000\n",
      "    happy     0.7632  0.8630    0.8101 1774.0000\n",
      "  neutral     0.4323  0.7356    0.5446 1233.0000\n",
      "      sad     0.4787  0.2967    0.3663 1247.0000\n",
      "surprised     0.6781  0.7124    0.6948  831.0000\n",
      "\n",
      "--------------------------------------------------------------------------------\n",
      "Macro Average    - Precision: 0.5999, Recall: 0.4676, F1-Score: 0.4513\n",
      "Weighted Average - Precision: 0.5564, Recall: 0.5619, F1-Score: 0.5349\n"
     ]
    }
   ],
   "source": [
    "def display_classification_report(results):\n",
    "    \"\"\"Display detailed classification report with precision, recall, F1\"\"\"\n",
    "    \n",
    "    report = results['report']\n",
    "    emotion_classes = results['emotion_classes']\n",
    "    \n",
    "    metrics_data = []\n",
    "    \n",
    "    for i, emotion in enumerate(emotion_classes):\n",
    "        if str(i) in report or emotion in report:\n",
    "            key = emotion if emotion in report else str(i)\n",
    "            if key in report:\n",
    "                metrics_data.append({\n",
    "                    'Emotion': emotion,\n",
    "                    'Precision': report[key]['precision'],\n",
    "                    'Recall': report[key]['recall'],\n",
    "                    'F1-Score': report[key]['f1-score'],\n",
    "                    'Support': report[key]['support']\n",
    "                })\n",
    "    \n",
    "    df_metrics = pd.DataFrame(metrics_data)\n",
    "    \n",
    "    # Display as formatted table\n",
    "    print(\"\\n\" + \"=\"*80)\n",
    "    print(\"DETAILED CLASSIFICATION REPORT\")\n",
    "    print(\"=\"*80)\n",
    "    print(df_metrics.to_string(index=False, float_format='%.4f'))\n",
    "    \n",
    "    if 'macro avg' in report:\n",
    "        print(\"\\n\" + \"-\"*80)\n",
    "        print(f\"Macro Average    - Precision: {report['macro avg']['precision']:.4f}, \"\n",
    "              f\"Recall: {report['macro avg']['recall']:.4f}, \"\n",
    "              f\"F1-Score: {report['macro avg']['f1-score']:.4f}\")\n",
    "    \n",
    "    if 'weighted avg' in report:\n",
    "        print(f\"Weighted Average - Precision: {report['weighted avg']['precision']:.4f}, \"\n",
    "              f\"Recall: {report['weighted avg']['recall']:.4f}, \"\n",
    "              f\"F1-Score: {report['weighted avg']['f1-score']:.4f}\")\n",
    "    \n",
    "    return df_metrics\n",
    "\n",
    "metrics_df = display_classification_report(results)"
   ]
  },
  {
   "cell_type": "code",
   "execution_count": null,
   "id": "9449a942-6ee4-4002-8d52-9c0fb37c18c7",
   "metadata": {},
   "outputs": [],
   "source": []
  },
  {
   "cell_type": "code",
   "execution_count": null,
   "id": "99a2325a-afae-45a2-a82f-82bbf076a263",
   "metadata": {},
   "outputs": [],
   "source": []
  }
 ],
 "metadata": {
  "kernelspec": {
   "display_name": "Python [conda env:base] *",
   "language": "python",
   "name": "conda-base-py"
  },
  "language_info": {
   "codemirror_mode": {
    "name": "ipython",
    "version": 3
   },
   "file_extension": ".py",
   "mimetype": "text/x-python",
   "name": "python",
   "nbconvert_exporter": "python",
   "pygments_lexer": "ipython3",
   "version": "3.12.7"
  }
 },
 "nbformat": 4,
 "nbformat_minor": 5
}
